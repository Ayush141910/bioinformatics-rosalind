{
  "nbformat": 4,
  "nbformat_minor": 0,
  "metadata": {
    "colab": {
      "provenance": [],
      "authorship_tag": "ABX9TyNIb0c5OcGqx5BugNQUWbd8",
      "include_colab_link": true
    },
    "kernelspec": {
      "name": "python3",
      "display_name": "Python 3"
    },
    "language_info": {
      "name": "python"
    }
  },
  "cells": [
    {
      "cell_type": "markdown",
      "metadata": {
        "id": "view-in-github",
        "colab_type": "text"
      },
      "source": [
        "<a href=\"https://colab.research.google.com/github/Ayush141910/bioinformatics-rosalind/blob/main/notebooks/Bioinformatics_Module03.ipynb\" target=\"_parent\"><img src=\"https://colab.research.google.com/assets/colab-badge.svg\" alt=\"Open In Colab\"/></a>"
      ]
    },
    {
      "cell_type": "code",
      "execution_count": null,
      "metadata": {
        "colab": {
          "base_uri": "https://localhost:8080/"
        },
        "id": "ATzbAhuLh80H",
        "outputId": "28346558-fdab-4f4c-c9ad-5df46d8301b5"
      },
      "outputs": [
        {
          "output_type": "stream",
          "name": "stdout",
          "text": [
            "What's your name? Ayush\n",
            "Hello Ayush\n"
          ]
        }
      ],
      "source": [
        "# P6.1 — greet the user by name\n",
        "name = input(\"What's your name? \")\n",
        "print(\"Hello\", name)\n"
      ]
    },
    {
      "cell_type": "code",
      "source": [
        "# P6.2 — 🚩 ROSALIND #1 (custom in course): square of hypotenuse a^2 + b^2\n",
        "# Use input; do NOT edit code to change numbers\n",
        "a = float(input(\"Enter side a: \"))\n",
        "b = float(input(\"Enter side b: \"))\n",
        "hyp_sq = a**2 + b**2\n",
        "print(hyp_sq)\n"
      ],
      "metadata": {
        "colab": {
          "base_uri": "https://localhost:8080/"
        },
        "id": "dC6m7OGLjwcP",
        "outputId": "52ceea8d-2711-4cdb-8871-003bf201b51e"
      },
      "execution_count": null,
      "outputs": [
        {
          "output_type": "stream",
          "name": "stdout",
          "text": [
            "Enter side a: 922\n",
            "Enter side b: 976\n",
            "1802660.0\n"
          ]
        }
      ]
    },
    {
      "cell_type": "code",
      "source": [
        "# P7.1 — create and index\n",
        "my_list = [\"Hello\", \"World\", \"Charles Darwin\"]\n",
        "print(\"Index 1 ->\", my_list[1])   # should print \"World\" (lists are 0-indexed)\n"
      ],
      "metadata": {
        "colab": {
          "base_uri": "https://localhost:8080/"
        },
        "id": "45LTEO5-jpQF",
        "outputId": "c4c5d14d-5da9-4cd5-8b06-6e2b81d7d103"
      },
      "execution_count": null,
      "outputs": [
        {
          "output_type": "stream",
          "name": "stdout",
          "text": [
            "Index 1 -> World\n"
          ]
        }
      ]
    },
    {
      "cell_type": "code",
      "source": [
        "# P7.2 — replace \"Charles Darwin\" with \"Alfred R. Wallace\"\n",
        "my_list[2] = \"Alfred R. Wallace\"\n",
        "print(my_list)\n"
      ],
      "metadata": {
        "colab": {
          "base_uri": "https://localhost:8080/"
        },
        "id": "WOYbzcGxkbT2",
        "outputId": "f2f6a4b6-60a0-476e-9718-38b01ba1c7c7"
      },
      "execution_count": null,
      "outputs": [
        {
          "output_type": "stream",
          "name": "stdout",
          "text": [
            "['Hello', 'World', 'Alfred R. Wallace']\n"
          ]
        }
      ]
    },
    {
      "cell_type": "code",
      "source": [
        "# P7.3 — append \"Charles Darwin\" back\n",
        "my_list.append(\"Charles Darwin\")\n",
        "print(my_list)\n"
      ],
      "metadata": {
        "colab": {
          "base_uri": "https://localhost:8080/"
        },
        "id": "16uEeDarkfFb",
        "outputId": "f3859107-9336-4562-b15d-2958f2368d3b"
      },
      "execution_count": null,
      "outputs": [
        {
          "output_type": "stream",
          "name": "stdout",
          "text": [
            "['Hello', 'World', 'Alfred R. Wallace', 'Charles Darwin']\n"
          ]
        }
      ]
    },
    {
      "cell_type": "code",
      "source": [
        "# P7.4 — insert an item at index 1\n",
        "my_list.insert(1, \"Inserted item\")\n",
        "print(my_list)\n"
      ],
      "metadata": {
        "colab": {
          "base_uri": "https://localhost:8080/"
        },
        "id": "_0xZn44Bki4V",
        "outputId": "41e671dc-e211-44bc-9e51-fefd8c4859b4"
      },
      "execution_count": null,
      "outputs": [
        {
          "output_type": "stream",
          "name": "stdout",
          "text": [
            "['Hello', 'Inserted item', 'World', 'Alfred R. Wallace', 'Charles Darwin']\n"
          ]
        }
      ]
    },
    {
      "cell_type": "code",
      "source": [
        "# P8.1 — slice to get \"World\" and \"Alfred R. Wallace\"\n",
        "# Current my_list: [\"Hello\", \"Inserted item\", \"World\", \"Alfred R. Wallace\", \"Charles Darwin\"]\n",
        "print(my_list[2:4])  # -> ['World', 'Alfred R. Wallace']\n"
      ],
      "metadata": {
        "colab": {
          "base_uri": "https://localhost:8080/"
        },
        "id": "xAJ8UbIyklgM",
        "outputId": "7fb9359a-7a5c-4aeb-c8e4-581713b52b90"
      },
      "execution_count": null,
      "outputs": [
        {
          "output_type": "stream",
          "name": "stdout",
          "text": [
            "['World', 'Alfred R. Wallace']\n"
          ]
        }
      ]
    },
    {
      "cell_type": "code",
      "source": [
        "# String slices\n",
        "my_string = \"HelloWorldCharlesDarwinAlfred R. Wallace\"\n",
        "\n",
        "# print \"Hello World\" using slicing (insert a space when printing)\n",
        "hello = my_string[0:5]     # \"Hello\"\n",
        "world = my_string[5:10]    # \"World\"\n",
        "print(hello, world)\n",
        "\n",
        "# P8.2 — print \"Wallace World\"\n",
        "wallace = my_string[33:]   # \"Wallace\"\n",
        "print(wallace, world)\n"
      ],
      "metadata": {
        "colab": {
          "base_uri": "https://localhost:8080/"
        },
        "id": "ygCZg-z1k9Vm",
        "outputId": "d7b2eba0-2a1c-4df0-856c-4f4d1e05cbbb"
      },
      "execution_count": null,
      "outputs": [
        {
          "output_type": "stream",
          "name": "stdout",
          "text": [
            "Hello World\n",
            "Wallace World\n"
          ]
        }
      ]
    },
    {
      "cell_type": "code",
      "source": [
        "# P8.3 — 🚩 ROSALIND #2 (Strings and Lists)\n",
        "# Spec (standard Rosalind INI3): given string s and integers a b c d,\n",
        "# print s[a:b+1] + \" \" + s[c:d+1]\n",
        "s = input().strip()\n",
        "a, b, c, d = map(int, input().split())\n",
        "print(s[a:b+1], s[c:d+1])\n"
      ],
      "metadata": {
        "id": "M0OqzdnPlC_R",
        "colab": {
          "base_uri": "https://localhost:8080/"
        },
        "outputId": "36c39db1-d8c2-43f6-cdf1-48f15f9f3c9c"
      },
      "execution_count": null,
      "outputs": [
        {
          "output_type": "stream",
          "name": "stdout",
          "text": [
            "i2L2laZIvhb4HHvidxUCDrt8JT7DR0vwnkNQ9UYBPua0KaQ3jIDCaimani9o9qlSEViiAUr0cpX35DD7O9tlqhQjPNezIPaylbggDbbtVJZrQXapsnriT0Eoen4dAs49HkZroPA8FIwy29D03penelopewnmPlKmENcxLZ01nHfGwVDso0WlOzJyUFwWjOXMV.\n",
            "51 56 145 152\n",
            "Caiman penelope\n"
          ]
        }
      ]
    },
    {
      "cell_type": "code",
      "source": [
        "# P9.1 — add if equal, else subtract\n",
        "x = int(input(\"x: \"))\n",
        "y = int(input(\"y: \"))\n",
        "if x == y:\n",
        "    print(x + y)\n",
        "else:\n",
        "    print(x - y)\n"
      ],
      "metadata": {
        "colab": {
          "base_uri": "https://localhost:8080/"
        },
        "id": "YhUCWDYbmsvk",
        "outputId": "b19e9346-ccad-4b86-ced7-34f8c4c3b6f5"
      },
      "execution_count": null,
      "outputs": [
        {
          "output_type": "stream",
          "name": "stdout",
          "text": [
            "x: 1\n",
            "y: 1\n",
            "2\n"
          ]
        }
      ]
    },
    {
      "cell_type": "code",
      "source": [
        "# P10.1 — while loop 3 times\n",
        "count = 1\n",
        "while count <= 3:\n",
        "    print(\"Counting!\", count)\n",
        "    count += 1\n"
      ],
      "metadata": {
        "colab": {
          "base_uri": "https://localhost:8080/"
        },
        "id": "04wPWqfrnJMU",
        "outputId": "0f294a7f-8d31-4628-97fb-5bdda3f85251"
      },
      "execution_count": null,
      "outputs": [
        {
          "output_type": "stream",
          "name": "stdout",
          "text": [
            "Counting! 1\n",
            "Counting! 2\n",
            "Counting! 3\n"
          ]
        }
      ]
    },
    {
      "cell_type": "code",
      "source": [
        "# P11.1 — loop over list\n",
        "names = [\"Alice\", \"Bob\", \"Charlie\"]\n",
        "for name in names:\n",
        "    print(\"Hello\", name)\n"
      ],
      "metadata": {
        "colab": {
          "base_uri": "https://localhost:8080/"
        },
        "id": "9TJlrVGCnMWx",
        "outputId": "45f5929c-0a7d-47ed-b5fa-8f44df327781"
      },
      "execution_count": null,
      "outputs": [
        {
          "output_type": "stream",
          "name": "stdout",
          "text": [
            "Hello Alice\n",
            "Hello Bob\n",
            "Hello Charlie\n"
          ]
        }
      ]
    },
    {
      "cell_type": "code",
      "source": [
        "# P12.1 — print numbers 0..9 (10 iterations)\n",
        "iterations = 10\n",
        "for number in range(iterations):\n",
        "    print(number)\n"
      ],
      "metadata": {
        "colab": {
          "base_uri": "https://localhost:8080/"
        },
        "id": "S_ITlFpenVmN",
        "outputId": "639460f3-06a9-461f-9255-8e38736742bd"
      },
      "execution_count": null,
      "outputs": [
        {
          "output_type": "stream",
          "name": "stdout",
          "text": [
            "0\n",
            "1\n",
            "2\n",
            "3\n",
            "4\n",
            "5\n",
            "6\n",
            "7\n",
            "8\n",
            "9\n"
          ]
        }
      ]
    },
    {
      "cell_type": "code",
      "source": [
        "# P12.2 — 9, 12, 15, 18, 21, 24, 27\n",
        "for n in range(9, 28, 3):  # stop is 28 to include 27\n",
        "    print(n)\n"
      ],
      "metadata": {
        "colab": {
          "base_uri": "https://localhost:8080/"
        },
        "id": "UeZ0LTIYncOU",
        "outputId": "0bc1d0cb-626e-46a6-a5f1-f9b8978d34cd"
      },
      "execution_count": null,
      "outputs": [
        {
          "output_type": "stream",
          "name": "stdout",
          "text": [
            "9\n",
            "12\n",
            "15\n",
            "18\n",
            "21\n",
            "24\n",
            "27\n"
          ]
        }
      ]
    },
    {
      "cell_type": "code",
      "source": [
        "# P12.3 — 🚩 ROSALIND #3 (Conditions and Loops; standard INI4)\n",
        "# Input: two integers a b (a < b). Output: sum of odd integers from a..b inclusive.\n",
        "a, b = map(int, input().split())\n",
        "total = sum(n for n in range(a, b+1) if n % 2 == 1)\n",
        "print(total)\n"
      ],
      "metadata": {
        "colab": {
          "base_uri": "https://localhost:8080/"
        },
        "id": "0Uz2MSvfniu8",
        "outputId": "3c1f30c6-a082-475a-c78e-db9b197ef3aa"
      },
      "execution_count": null,
      "outputs": [
        {
          "output_type": "stream",
          "name": "stdout",
          "text": [
            "4022 8066\n",
            "12220968\n"
          ]
        }
      ]
    },
    {
      "cell_type": "code",
      "source": [
        "# P13.1 — read() prints the entire file as one string\n",
        "with open(\"/content/rosalind_ini5 (1).txt\", \"r\") as data:\n",
        "    print(data.read())\n"
      ],
      "metadata": {
        "colab": {
          "base_uri": "https://localhost:8080/"
        },
        "id": "_se6lAp1nyTA",
        "outputId": "6a219534-cffb-4901-b339-c4ca6aed9e7d"
      },
      "execution_count": null,
      "outputs": [
        {
          "output_type": "stream",
          "name": "stdout",
          "text": [
            "`Twas brillig, and the slithy toves\n",
            "Some things in life are bad, they can really make you mad\n",
            "  Did gyre and gimble in the wabe:\n",
            "Other things just make you swear and curse\n",
            "All mimsy were the borogoves,\n",
            "When you're chewing on life's gristle, don't grumble give a whistle\n",
            "  And the mome raths outgrabe.\n",
            "This will help things turn out for the best\n",
            "\"Beware the Jabberwock, my son!\n",
            "Always look on the bright side of life\n",
            "  The jaws that bite, the claws that catch!\n",
            "Always look on the right side of life\n",
            "Beware the Jubjub bird, and shun\n",
            "If life seems jolly rotten, there's something you've forgotten\n",
            "  The frumious Bandersnatch!\"\n",
            "And that's to laugh and smile and dance and sing\n",
            "He took his vorpal sword in hand:\n",
            "When you're feeling in the dumps, don't be silly, chumps\n",
            "  Long time the manxome foe he sought --\n",
            "Just purse your lips and whistle, that's the thing\n",
            "So rested he by the Tumtum tree,\n",
            "So, always look on the bright side of death\n",
            "  And stood awhile in thought.\n",
            "Just before you draw your terminal breath\n",
            "And, as in uffish thought he stood,\n",
            "Life's a counterfeit and when you look at it\n",
            "  The Jabberwock, with eyes of flame,\n",
            "Life's a laugh and death's the joke, it's true\n",
            "Came whiffling through the tulgey wood,\n",
            "You see, it's all a show, keep them laughing as you go\n",
            "  And burbled as it came!\n",
            "Just remember the last laugh is on you\n",
            "One, two! One, two! And through and through\n",
            "Always look on the bright side of life\n",
            "  The vorpal blade went snicker-snack!\n",
            "And always look on the right side of life\n",
            "He left it dead, and with its head\n",
            "Always look on the bright side of life\n",
            "  He went galumphing back.\n",
            "And always look on the right side of life\n",
            "\n"
          ]
        }
      ]
    },
    {
      "cell_type": "code",
      "source": [
        "# P13.2 — behavior of file object as it's consumed\n",
        "with open(\"/content/rosalind_ini5 (1).txt\", \"r\") as data:\n",
        "    print(\"read():\")\n",
        "    print(data.read())          # consumes the file\n",
        "    print(\"readline():\")\n",
        "    print(data.readline())      # now returns '' (empty) because file is at end\n",
        "    print(\"readlines():\")\n",
        "    print(data.readlines())     # returns [] for the same reason\n"
      ],
      "metadata": {
        "colab": {
          "base_uri": "https://localhost:8080/"
        },
        "id": "GcGe9nNbsWel",
        "outputId": "790a4cc6-a124-40e3-b088-0f2427716785"
      },
      "execution_count": null,
      "outputs": [
        {
          "output_type": "stream",
          "name": "stdout",
          "text": [
            "read():\n",
            "`Twas brillig, and the slithy toves\n",
            "Some things in life are bad, they can really make you mad\n",
            "  Did gyre and gimble in the wabe:\n",
            "Other things just make you swear and curse\n",
            "All mimsy were the borogoves,\n",
            "When you're chewing on life's gristle, don't grumble give a whistle\n",
            "  And the mome raths outgrabe.\n",
            "This will help things turn out for the best\n",
            "\"Beware the Jabberwock, my son!\n",
            "Always look on the bright side of life\n",
            "  The jaws that bite, the claws that catch!\n",
            "Always look on the right side of life\n",
            "Beware the Jubjub bird, and shun\n",
            "If life seems jolly rotten, there's something you've forgotten\n",
            "  The frumious Bandersnatch!\"\n",
            "And that's to laugh and smile and dance and sing\n",
            "He took his vorpal sword in hand:\n",
            "When you're feeling in the dumps, don't be silly, chumps\n",
            "  Long time the manxome foe he sought --\n",
            "Just purse your lips and whistle, that's the thing\n",
            "So rested he by the Tumtum tree,\n",
            "So, always look on the bright side of death\n",
            "  And stood awhile in thought.\n",
            "Just before you draw your terminal breath\n",
            "And, as in uffish thought he stood,\n",
            "Life's a counterfeit and when you look at it\n",
            "  The Jabberwock, with eyes of flame,\n",
            "Life's a laugh and death's the joke, it's true\n",
            "Came whiffling through the tulgey wood,\n",
            "You see, it's all a show, keep them laughing as you go\n",
            "  And burbled as it came!\n",
            "Just remember the last laugh is on you\n",
            "One, two! One, two! And through and through\n",
            "Always look on the bright side of life\n",
            "  The vorpal blade went snicker-snack!\n",
            "And always look on the right side of life\n",
            "He left it dead, and with its head\n",
            "Always look on the bright side of life\n",
            "  He went galumphing back.\n",
            "And always look on the right side of life\n",
            "\n",
            "readline():\n",
            "\n",
            "readlines():\n",
            "[]\n"
          ]
        }
      ]
    },
    {
      "cell_type": "code",
      "source": [
        "# P14.1 — readlines into list, then join to print exactly like original\n",
        "with open(\"/content/rosalind_ini5 (1).txt\", \"r\") as data:\n",
        "    list_of_lines = data.readlines()\n",
        "\n",
        "print(\"\".join(list_of_lines))  # join with empty delimiter reproduces original\n"
      ],
      "metadata": {
        "colab": {
          "base_uri": "https://localhost:8080/"
        },
        "id": "9uBZ6LN4shHs",
        "outputId": "224a4b47-92c2-4f43-987d-2dcc79e58dde"
      },
      "execution_count": null,
      "outputs": [
        {
          "output_type": "stream",
          "name": "stdout",
          "text": [
            "`Twas brillig, and the slithy toves\n",
            "Some things in life are bad, they can really make you mad\n",
            "  Did gyre and gimble in the wabe:\n",
            "Other things just make you swear and curse\n",
            "All mimsy were the borogoves,\n",
            "When you're chewing on life's gristle, don't grumble give a whistle\n",
            "  And the mome raths outgrabe.\n",
            "This will help things turn out for the best\n",
            "\"Beware the Jabberwock, my son!\n",
            "Always look on the bright side of life\n",
            "  The jaws that bite, the claws that catch!\n",
            "Always look on the right side of life\n",
            "Beware the Jubjub bird, and shun\n",
            "If life seems jolly rotten, there's something you've forgotten\n",
            "  The frumious Bandersnatch!\"\n",
            "And that's to laugh and smile and dance and sing\n",
            "He took his vorpal sword in hand:\n",
            "When you're feeling in the dumps, don't be silly, chumps\n",
            "  Long time the manxome foe he sought --\n",
            "Just purse your lips and whistle, that's the thing\n",
            "So rested he by the Tumtum tree,\n",
            "So, always look on the bright side of death\n",
            "  And stood awhile in thought.\n",
            "Just before you draw your terminal breath\n",
            "And, as in uffish thought he stood,\n",
            "Life's a counterfeit and when you look at it\n",
            "  The Jabberwock, with eyes of flame,\n",
            "Life's a laugh and death's the joke, it's true\n",
            "Came whiffling through the tulgey wood,\n",
            "You see, it's all a show, keep them laughing as you go\n",
            "  And burbled as it came!\n",
            "Just remember the last laugh is on you\n",
            "One, two! One, two! And through and through\n",
            "Always look on the bright side of life\n",
            "  The vorpal blade went snicker-snack!\n",
            "And always look on the right side of life\n",
            "He left it dead, and with its head\n",
            "Always look on the bright side of life\n",
            "  He went galumphing back.\n",
            "And always look on the right side of life\n",
            "\n"
          ]
        }
      ]
    },
    {
      "cell_type": "code",
      "source": [
        "# P15.1 — for each line, print without the extra newline\n",
        "with open(\"/content/rosalind_ini5 (1).txt\", \"r\") as data:\n",
        "    for line in data:\n",
        "        print(line.rstrip())\n"
      ],
      "metadata": {
        "colab": {
          "base_uri": "https://localhost:8080/"
        },
        "id": "9MVkh900s_h2",
        "outputId": "e3dd614f-e70c-4adc-d15b-96193e0d1839"
      },
      "execution_count": null,
      "outputs": [
        {
          "output_type": "stream",
          "name": "stdout",
          "text": [
            "`Twas brillig, and the slithy toves\n",
            "Some things in life are bad, they can really make you mad\n",
            "  Did gyre and gimble in the wabe:\n",
            "Other things just make you swear and curse\n",
            "All mimsy were the borogoves,\n",
            "When you're chewing on life's gristle, don't grumble give a whistle\n",
            "  And the mome raths outgrabe.\n",
            "This will help things turn out for the best\n",
            "\"Beware the Jabberwock, my son!\n",
            "Always look on the bright side of life\n",
            "  The jaws that bite, the claws that catch!\n",
            "Always look on the right side of life\n",
            "Beware the Jubjub bird, and shun\n",
            "If life seems jolly rotten, there's something you've forgotten\n",
            "  The frumious Bandersnatch!\"\n",
            "And that's to laugh and smile and dance and sing\n",
            "He took his vorpal sword in hand:\n",
            "When you're feeling in the dumps, don't be silly, chumps\n",
            "  Long time the manxome foe he sought --\n",
            "Just purse your lips and whistle, that's the thing\n",
            "So rested he by the Tumtum tree,\n",
            "So, always look on the bright side of death\n",
            "  And stood awhile in thought.\n",
            "Just before you draw your terminal breath\n",
            "And, as in uffish thought he stood,\n",
            "Life's a counterfeit and when you look at it\n",
            "  The Jabberwock, with eyes of flame,\n",
            "Life's a laugh and death's the joke, it's true\n",
            "Came whiffling through the tulgey wood,\n",
            "You see, it's all a show, keep them laughing as you go\n",
            "  And burbled as it came!\n",
            "Just remember the last laugh is on you\n",
            "One, two! One, two! And through and through\n",
            "Always look on the bright side of life\n",
            "  The vorpal blade went snicker-snack!\n",
            "And always look on the right side of life\n",
            "He left it dead, and with its head\n",
            "Always look on the bright side of life\n",
            "  He went galumphing back.\n",
            "And always look on the right side of life\n"
          ]
        }
      ]
    },
    {
      "cell_type": "code",
      "source": [
        "# P15.2 — 🚩 ROSALIND #4 (Working with Files; standard INI5)\n",
        "# Print the EVEN-numbered lines (1-based) of the input file.\n",
        "# Upload the dataset to /content/rosalind_ini5.txt before running.\n",
        "\n",
        "in_path = \"/content/rosalind_ini5 (1).txt\"\n",
        "with open(in_path, \"r\") as f:\n",
        "    for idx, line in enumerate(f, start=1):\n",
        "        if idx % 2 == 0:\n",
        "            print(line.rstrip())\n"
      ],
      "metadata": {
        "colab": {
          "base_uri": "https://localhost:8080/"
        },
        "id": "EvMgmpH8tHLs",
        "outputId": "34e26521-3301-469d-a721-0c2ac541b7e9"
      },
      "execution_count": null,
      "outputs": [
        {
          "output_type": "stream",
          "name": "stdout",
          "text": [
            "Some things in life are bad, they can really make you mad\n",
            "Other things just make you swear and curse\n",
            "When you're chewing on life's gristle, don't grumble give a whistle\n",
            "This will help things turn out for the best\n",
            "Always look on the bright side of life\n",
            "Always look on the right side of life\n",
            "If life seems jolly rotten, there's something you've forgotten\n",
            "And that's to laugh and smile and dance and sing\n",
            "When you're feeling in the dumps, don't be silly, chumps\n",
            "Just purse your lips and whistle, that's the thing\n",
            "So, always look on the bright side of death\n",
            "Just before you draw your terminal breath\n",
            "Life's a counterfeit and when you look at it\n",
            "Life's a laugh and death's the joke, it's true\n",
            "You see, it's all a show, keep them laughing as you go\n",
            "Just remember the last laugh is on you\n",
            "Always look on the bright side of life\n",
            "And always look on the right side of life\n",
            "Always look on the bright side of life\n",
            "And always look on the right side of life\n"
          ]
        }
      ]
    },
    {
      "cell_type": "code",
      "source": [
        "# P16.1 — print every word from practice_5.txt, one per line\n",
        "with open(\"/content/rosalind_ini5 (1).txt\", \"r\") as f:\n",
        "    for line in f:\n",
        "        for word in line.split():   # split on whitespace\n",
        "            print(word)\n"
      ],
      "metadata": {
        "colab": {
          "base_uri": "https://localhost:8080/"
        },
        "id": "L0gMccyMtWb0",
        "outputId": "b4e17fd5-d7a4-4653-f44d-7516e5f4b381"
      },
      "execution_count": null,
      "outputs": [
        {
          "output_type": "stream",
          "name": "stdout",
          "text": [
            "`Twas\n",
            "brillig,\n",
            "and\n",
            "the\n",
            "slithy\n",
            "toves\n",
            "Some\n",
            "things\n",
            "in\n",
            "life\n",
            "are\n",
            "bad,\n",
            "they\n",
            "can\n",
            "really\n",
            "make\n",
            "you\n",
            "mad\n",
            "Did\n",
            "gyre\n",
            "and\n",
            "gimble\n",
            "in\n",
            "the\n",
            "wabe:\n",
            "Other\n",
            "things\n",
            "just\n",
            "make\n",
            "you\n",
            "swear\n",
            "and\n",
            "curse\n",
            "All\n",
            "mimsy\n",
            "were\n",
            "the\n",
            "borogoves,\n",
            "When\n",
            "you're\n",
            "chewing\n",
            "on\n",
            "life's\n",
            "gristle,\n",
            "don't\n",
            "grumble\n",
            "give\n",
            "a\n",
            "whistle\n",
            "And\n",
            "the\n",
            "mome\n",
            "raths\n",
            "outgrabe.\n",
            "This\n",
            "will\n",
            "help\n",
            "things\n",
            "turn\n",
            "out\n",
            "for\n",
            "the\n",
            "best\n",
            "\"Beware\n",
            "the\n",
            "Jabberwock,\n",
            "my\n",
            "son!\n",
            "Always\n",
            "look\n",
            "on\n",
            "the\n",
            "bright\n",
            "side\n",
            "of\n",
            "life\n",
            "The\n",
            "jaws\n",
            "that\n",
            "bite,\n",
            "the\n",
            "claws\n",
            "that\n",
            "catch!\n",
            "Always\n",
            "look\n",
            "on\n",
            "the\n",
            "right\n",
            "side\n",
            "of\n",
            "life\n",
            "Beware\n",
            "the\n",
            "Jubjub\n",
            "bird,\n",
            "and\n",
            "shun\n",
            "If\n",
            "life\n",
            "seems\n",
            "jolly\n",
            "rotten,\n",
            "there's\n",
            "something\n",
            "you've\n",
            "forgotten\n",
            "The\n",
            "frumious\n",
            "Bandersnatch!\"\n",
            "And\n",
            "that's\n",
            "to\n",
            "laugh\n",
            "and\n",
            "smile\n",
            "and\n",
            "dance\n",
            "and\n",
            "sing\n",
            "He\n",
            "took\n",
            "his\n",
            "vorpal\n",
            "sword\n",
            "in\n",
            "hand:\n",
            "When\n",
            "you're\n",
            "feeling\n",
            "in\n",
            "the\n",
            "dumps,\n",
            "don't\n",
            "be\n",
            "silly,\n",
            "chumps\n",
            "Long\n",
            "time\n",
            "the\n",
            "manxome\n",
            "foe\n",
            "he\n",
            "sought\n",
            "--\n",
            "Just\n",
            "purse\n",
            "your\n",
            "lips\n",
            "and\n",
            "whistle,\n",
            "that's\n",
            "the\n",
            "thing\n",
            "So\n",
            "rested\n",
            "he\n",
            "by\n",
            "the\n",
            "Tumtum\n",
            "tree,\n",
            "So,\n",
            "always\n",
            "look\n",
            "on\n",
            "the\n",
            "bright\n",
            "side\n",
            "of\n",
            "death\n",
            "And\n",
            "stood\n",
            "awhile\n",
            "in\n",
            "thought.\n",
            "Just\n",
            "before\n",
            "you\n",
            "draw\n",
            "your\n",
            "terminal\n",
            "breath\n",
            "And,\n",
            "as\n",
            "in\n",
            "uffish\n",
            "thought\n",
            "he\n",
            "stood,\n",
            "Life's\n",
            "a\n",
            "counterfeit\n",
            "and\n",
            "when\n",
            "you\n",
            "look\n",
            "at\n",
            "it\n",
            "The\n",
            "Jabberwock,\n",
            "with\n",
            "eyes\n",
            "of\n",
            "flame,\n",
            "Life's\n",
            "a\n",
            "laugh\n",
            "and\n",
            "death's\n",
            "the\n",
            "joke,\n",
            "it's\n",
            "true\n",
            "Came\n",
            "whiffling\n",
            "through\n",
            "the\n",
            "tulgey\n",
            "wood,\n",
            "You\n",
            "see,\n",
            "it's\n",
            "all\n",
            "a\n",
            "show,\n",
            "keep\n",
            "them\n",
            "laughing\n",
            "as\n",
            "you\n",
            "go\n",
            "And\n",
            "burbled\n",
            "as\n",
            "it\n",
            "came!\n",
            "Just\n",
            "remember\n",
            "the\n",
            "last\n",
            "laugh\n",
            "is\n",
            "on\n",
            "you\n",
            "One,\n",
            "two!\n",
            "One,\n",
            "two!\n",
            "And\n",
            "through\n",
            "and\n",
            "through\n",
            "Always\n",
            "look\n",
            "on\n",
            "the\n",
            "bright\n",
            "side\n",
            "of\n",
            "life\n",
            "The\n",
            "vorpal\n",
            "blade\n",
            "went\n",
            "snicker-snack!\n",
            "And\n",
            "always\n",
            "look\n",
            "on\n",
            "the\n",
            "right\n",
            "side\n",
            "of\n",
            "life\n",
            "He\n",
            "left\n",
            "it\n",
            "dead,\n",
            "and\n",
            "with\n",
            "its\n",
            "head\n",
            "Always\n",
            "look\n",
            "on\n",
            "the\n",
            "bright\n",
            "side\n",
            "of\n",
            "life\n",
            "He\n",
            "went\n",
            "galumphing\n",
            "back.\n",
            "And\n",
            "always\n",
            "look\n",
            "on\n",
            "the\n",
            "right\n",
            "side\n",
            "of\n",
            "life\n"
          ]
        }
      ]
    },
    {
      "cell_type": "code",
      "source": [
        "# P17.1 — create and print a dictionary\n",
        "sequences = {\n",
        "    \"H.sapiens\": \"ATGC\",\n",
        "    \"P.troglodytes\": \"ATGT\",\n",
        "    \"G.gorilla\": \"ATGA\"\n",
        "}\n",
        "print(sequences)\n",
        "print(sequences[\"H.sapiens\"])  # access by key\n"
      ],
      "metadata": {
        "colab": {
          "base_uri": "https://localhost:8080/"
        },
        "id": "zVO5VCr4tfnw",
        "outputId": "d0b32e7c-339e-4860-8c30-1da200c3bb7a"
      },
      "execution_count": null,
      "outputs": [
        {
          "output_type": "stream",
          "name": "stdout",
          "text": [
            "{'H.sapiens': 'ATGC', 'P.troglodytes': 'ATGT', 'G.gorilla': 'ATGA'}\n",
            "ATGC\n"
          ]
        }
      ]
    },
    {
      "cell_type": "code",
      "source": [
        "# Add or update\n",
        "sequences[\"H.sapiens\"] = \"ATGCTT\"\n",
        "sequences.update({\"P.troglodytes\": \"ATGTTT\", \"P.paniscus\": \"ATGCAA\"})\n",
        "# Print all key,value pairs\n",
        "for k, v in sequences.items():\n",
        "    print(k, v)\n"
      ],
      "metadata": {
        "colab": {
          "base_uri": "https://localhost:8080/"
        },
        "id": "empurvVGts_4",
        "outputId": "3ff1ae9d-30aa-4127-e9bb-48be3d003dea"
      },
      "execution_count": null,
      "outputs": [
        {
          "output_type": "stream",
          "name": "stdout",
          "text": [
            "H.sapiens ATGCTT\n",
            "P.troglodytes ATGTTT\n",
            "G.gorilla ATGA\n",
            "P.paniscus ATGCAA\n"
          ]
        }
      ]
    },
    {
      "cell_type": "code",
      "source": [
        "# P18.2 — 🚩 ROSALIND #5 (Dictionaries; standard INI6)\n",
        "# Count word frequencies in a line; print \"word count\" pairs in any order.\n",
        "line = input().strip()\n",
        "freq = {}\n",
        "for word in line.split():\n",
        "    freq[word] = freq.get(word, 0) + 1\n",
        "for k, v in freq.items():\n",
        "    print(k, v)\n"
      ],
      "metadata": {
        "id": "SDpzeawbt3M9",
        "colab": {
          "base_uri": "https://localhost:8080/"
        },
        "outputId": "88cbdbee-ddd3-4cba-cb8b-f3a872a947ae"
      },
      "execution_count": 39,
      "outputs": [
        {
          "output_type": "stream",
          "name": "stdout",
          "text": [
            "When I find myself in times of trouble Mother Mary comes to me Speaking words of wisdom let it be And in my hour of darkness she is standing right in front of me Speaking words of wisdom let it be Let it be let it be let it be let it be Whisper words of wisdom let it be And when the broken hearted people living in the world agree There will be an answer let it be For though they may be parted there is still a chance that they will see There will be an answer let it be Let it be let it be let it be let it be There will be an answer let it be Let it be let it be let it be let it be Whisper words of wisdom let it be Let it be let it be let it be let it be Whisper words of wisdom let it be And when the night is cloudy there is still a light that shines on me Shine until tomorrow let it be I wake up to the sound of music Mother Mary comes to me Speaking words of wisdom let it be Let it be let it be let it be yeah let it be There will be an answer let it be Let it be let it be let it be yeah let it be Whisper words of wisdom let it be\n",
            "When 1\n",
            "I 2\n",
            "find 1\n",
            "myself 1\n",
            "in 4\n",
            "times 1\n",
            "of 11\n",
            "trouble 1\n",
            "Mother 2\n",
            "Mary 2\n",
            "comes 2\n",
            "to 3\n",
            "me 4\n",
            "Speaking 3\n",
            "words 7\n",
            "wisdom 7\n",
            "let 30\n",
            "it 36\n",
            "be 41\n",
            "And 3\n",
            "my 1\n",
            "hour 1\n",
            "darkness 1\n",
            "she 1\n",
            "is 4\n",
            "standing 1\n",
            "right 1\n",
            "front 1\n",
            "Let 6\n",
            "Whisper 4\n",
            "when 2\n",
            "the 4\n",
            "broken 1\n",
            "hearted 1\n",
            "people 1\n",
            "living 1\n",
            "world 1\n",
            "agree 1\n",
            "There 4\n",
            "will 5\n",
            "an 4\n",
            "answer 4\n",
            "For 1\n",
            "though 1\n",
            "they 2\n",
            "may 1\n",
            "parted 1\n",
            "there 2\n",
            "still 2\n",
            "a 2\n",
            "chance 1\n",
            "that 2\n",
            "see 1\n",
            "night 1\n",
            "cloudy 1\n",
            "light 1\n",
            "shines 1\n",
            "on 1\n",
            "Shine 1\n",
            "until 1\n",
            "tomorrow 1\n",
            "wake 1\n",
            "up 1\n",
            "sound 1\n",
            "music 1\n",
            "yeah 2\n"
          ]
        }
      ]
    },
    {
      "cell_type": "code",
      "source": [
        "# P19.1 — 🚩 ROSALIND #6 (Counting DNA Nucleotides; standard DNA)\n",
        "# Input: DNA string; Output: four integers A C G T counts.\n",
        "dna = input().strip()\n",
        "print(dna.count(\"A\"), dna.count(\"C\"), dna.count(\"G\"), dna.count(\"T\"))\n"
      ],
      "metadata": {
        "colab": {
          "base_uri": "https://localhost:8080/"
        },
        "id": "4ekSwNzYvZ6E",
        "outputId": "0a120825-e7d0-4010-99f0-92c9fe0efbe5"
      },
      "execution_count": 40,
      "outputs": [
        {
          "output_type": "stream",
          "name": "stdout",
          "text": [
            "GTTCGGCGCATACGTGACTGATCTGGGTGTAGGCGCTCTGCGGAAGGGGCTTAAGTGGGCTTCTCGTAACTGACCTCCCTACATGCCGCGACACACGATATAGTAGTTAGTCCTGGTGTAAACTTATTGGAACTTGCATCGGTGGATTCATGGGACAAGAATACGAAGGACACATTGTGTTCCCACAGTCTTCTGCGAGACCACGTAGTCGCCTGGGGGTTTATCCTCACCTCTCGGTCGTAAGTGCTACGGTCGAAGTTTGTAATCTAGTTGATCGGCTTTCCTCTTACGCCCATCATGCGGTGCGGAGTTGGCCGACAAACGGGACCGACCAAGACTTCGTCCTTGGAAAATGAGCAGTCTTACTCCAGCCTAGGACGGAGAAGTATTGACCTCCGTCATAGGGCGTCTGCGTACTTATGATGAAAGGTTATTCCGAGGGGCTGAGCTCAGCTACACGCGCTACATCTCTTAAATTTATGGATGTTAGGAAGTCGGACAAACAATTACGATGACGGATTCTGGATATAAATACTCTTGAACCCCATATCCGAGCTCCCCGTCTAGGCTATGTCGCCGGTCTATAGGAGGGAGCGGCGAATAGGAGCTCACACCCAGACCGATAGCTTCTCGTCTGAATCCAAAATAACGGCGGCGGTCCGCCTACTAATCCGTACCCTTTCATCACATTAGTGAATTACCGGTAGGGCAAACTTACCAATCCAGCCATGTTTTGGTATTGGATTGGAGAACTAACGGAAATTAGGGAGATCGCGAGTAGGGATTTGTCTAATATATTTATTATTGGCCTGGCCTAAGGTTCCAGTGATAGTCTCCGAAACCCTGAGTCAACGA\n",
            "210 203 221 221\n"
          ]
        }
      ]
    },
    {
      "cell_type": "code",
      "source": [
        "# P19.2 — modify dictionary solution to demonstrate count() usage once per new word\n",
        "# (Illustration; not optimal for large inputs)\n",
        "line = input().strip()\n",
        "words = line.split()\n",
        "freq2 = {}\n",
        "for w in words:\n",
        "    if w not in freq2:\n",
        "        freq2[w] = words.count(w)   # only count when first seen\n",
        "for k, v in freq2.items():\n",
        "    print(k, v)\n"
      ],
      "metadata": {
        "colab": {
          "base_uri": "https://localhost:8080/"
        },
        "id": "kRK7rh9Cvq6d",
        "outputId": "ac47de39-393a-4c48-d315-a554699a9474"
      },
      "execution_count": 42,
      "outputs": [
        {
          "output_type": "stream",
          "name": "stdout",
          "text": [
            "When I find myself in times of trouble Mother Mary comes to me Speaking words of wisdom let it be And in my hour of darkness she is standing right in front of me Speaking words of wisdom let it be Let it be let it be let it be let it be Whisper words of wisdom let it be And when the broken hearted people living in the world agree There will be an answer let it be For though they may be parted there is still a chance that they will see There will be an answer let it be Let it be let it be let it be let it be There will be an answer let it be Let it be let it be let it be let it be Whisper words of wisdom let it be Let it be let it be let it be let it be Whisper words of wisdom let it be And when the night is cloudy there is still a light that shines on me Shine until tomorrow let it be I wake up to the sound of music Mother Mary comes to me Speaking words of wisdom let it be Let it be let it be let it be yeah let it be There will be an answer let it be Let it be let it be let it be yeah let it be Whisper words of wisdom let it be\n",
            "When 1\n",
            "I 2\n",
            "find 1\n",
            "myself 1\n",
            "in 4\n",
            "times 1\n",
            "of 11\n",
            "trouble 1\n",
            "Mother 2\n",
            "Mary 2\n",
            "comes 2\n",
            "to 3\n",
            "me 4\n",
            "Speaking 3\n",
            "words 7\n",
            "wisdom 7\n",
            "let 30\n",
            "it 36\n",
            "be 41\n",
            "And 3\n",
            "my 1\n",
            "hour 1\n",
            "darkness 1\n",
            "she 1\n",
            "is 4\n",
            "standing 1\n",
            "right 1\n",
            "front 1\n",
            "Let 6\n",
            "Whisper 4\n",
            "when 2\n",
            "the 4\n",
            "broken 1\n",
            "hearted 1\n",
            "people 1\n",
            "living 1\n",
            "world 1\n",
            "agree 1\n",
            "There 4\n",
            "will 5\n",
            "an 4\n",
            "answer 4\n",
            "For 1\n",
            "though 1\n",
            "they 2\n",
            "may 1\n",
            "parted 1\n",
            "there 2\n",
            "still 2\n",
            "a 2\n",
            "chance 1\n",
            "that 2\n",
            "see 1\n",
            "night 1\n",
            "cloudy 1\n",
            "light 1\n",
            "shines 1\n",
            "on 1\n",
            "Shine 1\n",
            "until 1\n",
            "tomorrow 1\n",
            "wake 1\n",
            "up 1\n",
            "sound 1\n",
            "music 1\n",
            "yeah 2\n"
          ]
        }
      ]
    },
    {
      "cell_type": "code",
      "source": [
        "# P20.1 — install & test\n",
        "!pip -q install biopython\n",
        "from Bio.Seq import Seq\n",
        "test = Seq(\"ATGC\")\n",
        "print(\"Biopython OK, Seq length =\", len(test))\n"
      ],
      "metadata": {
        "colab": {
          "base_uri": "https://localhost:8080/"
        },
        "id": "Kvyyl2-bwJMJ",
        "outputId": "38921476-9c01-4600-81d4-b24142c35662"
      },
      "execution_count": 43,
      "outputs": [
        {
          "output_type": "stream",
          "name": "stdout",
          "text": [
            "\u001b[?25l   \u001b[90m━━━━━━━━━━━━━━━━━━━━━━━━━━━━━━━━━━━━━━━━\u001b[0m \u001b[32m0.0/3.3 MB\u001b[0m \u001b[31m?\u001b[0m eta \u001b[36m-:--:--\u001b[0m\r\u001b[2K   \u001b[91m━━━\u001b[0m\u001b[91m╸\u001b[0m\u001b[90m━━━━━━━━━━━━━━━━━━━━━━━━━━━━━━━━━━━━\u001b[0m \u001b[32m0.3/3.3 MB\u001b[0m \u001b[31m8.5 MB/s\u001b[0m eta \u001b[36m0:00:01\u001b[0m\r\u001b[2K   \u001b[91m━━━━━━━━━━━━━━━━━━━━━━━━━━━━━━━\u001b[0m\u001b[90m╺\u001b[0m\u001b[90m━━━━━━━━\u001b[0m \u001b[32m2.5/3.3 MB\u001b[0m \u001b[31m37.1 MB/s\u001b[0m eta \u001b[36m0:00:01\u001b[0m\r\u001b[2K   \u001b[90m━━━━━━━━━━━━━━━━━━━━━━━━━━━━━━━━━━━━━━━━\u001b[0m \u001b[32m3.3/3.3 MB\u001b[0m \u001b[31m32.9 MB/s\u001b[0m eta \u001b[36m0:00:00\u001b[0m\n",
            "\u001b[?25hBiopython OK, Seq length = 4\n"
          ]
        }
      ]
    },
    {
      "cell_type": "code",
      "source": [
        "from Bio.Seq import Seq\n",
        "\n",
        "# Example sequence (could copy from Rosalind #7 practice)\n",
        "my_sequence = Seq(\"GATGGAACTTGACTACGTAAATT\")\n",
        "print(\"complement:\", my_sequence.complement())\n",
        "print(\"reverse_complement:\", my_sequence.reverse_complement())\n",
        "print(\"transcribe:\", my_sequence.transcribe())\n",
        "print(\"translate:\", my_sequence.transcribe().translate())\n"
      ],
      "metadata": {
        "colab": {
          "base_uri": "https://localhost:8080/"
        },
        "id": "EYvpdRuIwSzM",
        "outputId": "c4c084f1-92db-4131-e7b3-c0f2037c5142"
      },
      "execution_count": 46,
      "outputs": [
        {
          "output_type": "stream",
          "name": "stdout",
          "text": [
            "complement: CTACCTTGAACTGATGCATTTAA\n",
            "reverse_complement: AATTTACGTAGTCAAGTTCCATC\n",
            "transcribe: GAUGGAACUUGACUACGUAAAUU\n",
            "translate: DGT*LRK\n"
          ]
        }
      ]
    },
    {
      "cell_type": "code",
      "source": [
        "# P21.1 — 🚩 ROSALIND #7 (Transcribing DNA into RNA; standard RNA)\n",
        "# Upload the file in Colab and read it\n",
        "from google.colab import files\n",
        "uploaded = files.upload()  # choose the file (e.g., rosalind_rna.txt)\n",
        "\n",
        "filename = next(iter(uploaded))\n",
        "with open(filename, \"r\") as f:\n",
        "    dna = f.read().strip().upper()\n",
        "\n",
        "print(dna.replace(\"T\", \"U\"))\n"
      ],
      "metadata": {
        "colab": {
          "base_uri": "https://localhost:8080/",
          "height": 110
        },
        "id": "hB3H8aI2xAke",
        "outputId": "fd4779b1-1401-4808-8c92-04e7273e45ba"
      },
      "execution_count": 52,
      "outputs": [
        {
          "output_type": "display_data",
          "data": {
            "text/plain": [
              "<IPython.core.display.HTML object>"
            ],
            "text/html": [
              "\n",
              "     <input type=\"file\" id=\"files-ad5459d7-de90-4a8b-b0a5-f7ab965abe03\" name=\"files[]\" multiple disabled\n",
              "        style=\"border:none\" />\n",
              "     <output id=\"result-ad5459d7-de90-4a8b-b0a5-f7ab965abe03\">\n",
              "      Upload widget is only available when the cell has been executed in the\n",
              "      current browser session. Please rerun this cell to enable.\n",
              "      </output>\n",
              "      <script>// Copyright 2017 Google LLC\n",
              "//\n",
              "// Licensed under the Apache License, Version 2.0 (the \"License\");\n",
              "// you may not use this file except in compliance with the License.\n",
              "// You may obtain a copy of the License at\n",
              "//\n",
              "//      http://www.apache.org/licenses/LICENSE-2.0\n",
              "//\n",
              "// Unless required by applicable law or agreed to in writing, software\n",
              "// distributed under the License is distributed on an \"AS IS\" BASIS,\n",
              "// WITHOUT WARRANTIES OR CONDITIONS OF ANY KIND, either express or implied.\n",
              "// See the License for the specific language governing permissions and\n",
              "// limitations under the License.\n",
              "\n",
              "/**\n",
              " * @fileoverview Helpers for google.colab Python module.\n",
              " */\n",
              "(function(scope) {\n",
              "function span(text, styleAttributes = {}) {\n",
              "  const element = document.createElement('span');\n",
              "  element.textContent = text;\n",
              "  for (const key of Object.keys(styleAttributes)) {\n",
              "    element.style[key] = styleAttributes[key];\n",
              "  }\n",
              "  return element;\n",
              "}\n",
              "\n",
              "// Max number of bytes which will be uploaded at a time.\n",
              "const MAX_PAYLOAD_SIZE = 100 * 1024;\n",
              "\n",
              "function _uploadFiles(inputId, outputId) {\n",
              "  const steps = uploadFilesStep(inputId, outputId);\n",
              "  const outputElement = document.getElementById(outputId);\n",
              "  // Cache steps on the outputElement to make it available for the next call\n",
              "  // to uploadFilesContinue from Python.\n",
              "  outputElement.steps = steps;\n",
              "\n",
              "  return _uploadFilesContinue(outputId);\n",
              "}\n",
              "\n",
              "// This is roughly an async generator (not supported in the browser yet),\n",
              "// where there are multiple asynchronous steps and the Python side is going\n",
              "// to poll for completion of each step.\n",
              "// This uses a Promise to block the python side on completion of each step,\n",
              "// then passes the result of the previous step as the input to the next step.\n",
              "function _uploadFilesContinue(outputId) {\n",
              "  const outputElement = document.getElementById(outputId);\n",
              "  const steps = outputElement.steps;\n",
              "\n",
              "  const next = steps.next(outputElement.lastPromiseValue);\n",
              "  return Promise.resolve(next.value.promise).then((value) => {\n",
              "    // Cache the last promise value to make it available to the next\n",
              "    // step of the generator.\n",
              "    outputElement.lastPromiseValue = value;\n",
              "    return next.value.response;\n",
              "  });\n",
              "}\n",
              "\n",
              "/**\n",
              " * Generator function which is called between each async step of the upload\n",
              " * process.\n",
              " * @param {string} inputId Element ID of the input file picker element.\n",
              " * @param {string} outputId Element ID of the output display.\n",
              " * @return {!Iterable<!Object>} Iterable of next steps.\n",
              " */\n",
              "function* uploadFilesStep(inputId, outputId) {\n",
              "  const inputElement = document.getElementById(inputId);\n",
              "  inputElement.disabled = false;\n",
              "\n",
              "  const outputElement = document.getElementById(outputId);\n",
              "  outputElement.innerHTML = '';\n",
              "\n",
              "  const pickedPromise = new Promise((resolve) => {\n",
              "    inputElement.addEventListener('change', (e) => {\n",
              "      resolve(e.target.files);\n",
              "    });\n",
              "  });\n",
              "\n",
              "  const cancel = document.createElement('button');\n",
              "  inputElement.parentElement.appendChild(cancel);\n",
              "  cancel.textContent = 'Cancel upload';\n",
              "  const cancelPromise = new Promise((resolve) => {\n",
              "    cancel.onclick = () => {\n",
              "      resolve(null);\n",
              "    };\n",
              "  });\n",
              "\n",
              "  // Wait for the user to pick the files.\n",
              "  const files = yield {\n",
              "    promise: Promise.race([pickedPromise, cancelPromise]),\n",
              "    response: {\n",
              "      action: 'starting',\n",
              "    }\n",
              "  };\n",
              "\n",
              "  cancel.remove();\n",
              "\n",
              "  // Disable the input element since further picks are not allowed.\n",
              "  inputElement.disabled = true;\n",
              "\n",
              "  if (!files) {\n",
              "    return {\n",
              "      response: {\n",
              "        action: 'complete',\n",
              "      }\n",
              "    };\n",
              "  }\n",
              "\n",
              "  for (const file of files) {\n",
              "    const li = document.createElement('li');\n",
              "    li.append(span(file.name, {fontWeight: 'bold'}));\n",
              "    li.append(span(\n",
              "        `(${file.type || 'n/a'}) - ${file.size} bytes, ` +\n",
              "        `last modified: ${\n",
              "            file.lastModifiedDate ? file.lastModifiedDate.toLocaleDateString() :\n",
              "                                    'n/a'} - `));\n",
              "    const percent = span('0% done');\n",
              "    li.appendChild(percent);\n",
              "\n",
              "    outputElement.appendChild(li);\n",
              "\n",
              "    const fileDataPromise = new Promise((resolve) => {\n",
              "      const reader = new FileReader();\n",
              "      reader.onload = (e) => {\n",
              "        resolve(e.target.result);\n",
              "      };\n",
              "      reader.readAsArrayBuffer(file);\n",
              "    });\n",
              "    // Wait for the data to be ready.\n",
              "    let fileData = yield {\n",
              "      promise: fileDataPromise,\n",
              "      response: {\n",
              "        action: 'continue',\n",
              "      }\n",
              "    };\n",
              "\n",
              "    // Use a chunked sending to avoid message size limits. See b/62115660.\n",
              "    let position = 0;\n",
              "    do {\n",
              "      const length = Math.min(fileData.byteLength - position, MAX_PAYLOAD_SIZE);\n",
              "      const chunk = new Uint8Array(fileData, position, length);\n",
              "      position += length;\n",
              "\n",
              "      const base64 = btoa(String.fromCharCode.apply(null, chunk));\n",
              "      yield {\n",
              "        response: {\n",
              "          action: 'append',\n",
              "          file: file.name,\n",
              "          data: base64,\n",
              "        },\n",
              "      };\n",
              "\n",
              "      let percentDone = fileData.byteLength === 0 ?\n",
              "          100 :\n",
              "          Math.round((position / fileData.byteLength) * 100);\n",
              "      percent.textContent = `${percentDone}% done`;\n",
              "\n",
              "    } while (position < fileData.byteLength);\n",
              "  }\n",
              "\n",
              "  // All done.\n",
              "  yield {\n",
              "    response: {\n",
              "      action: 'complete',\n",
              "    }\n",
              "  };\n",
              "}\n",
              "\n",
              "scope.google = scope.google || {};\n",
              "scope.google.colab = scope.google.colab || {};\n",
              "scope.google.colab._files = {\n",
              "  _uploadFiles,\n",
              "  _uploadFilesContinue,\n",
              "};\n",
              "})(self);\n",
              "</script> "
            ]
          },
          "metadata": {}
        },
        {
          "output_type": "stream",
          "name": "stdout",
          "text": [
            "Saving rosalind_rna (1).txt to rosalind_rna (1) (2).txt\n",
            "CCUCCUAACAAGCUGACUUGUUUCCUGUCUAGACGUCCCGCUGUCAUCAUGCGGGCCAGCACAUUCCGGUUUACAACCUGUACGCUUGAGCUCUCCGGUUCCCAGCUAGGCAGACCGCGUAUUUGAAGGCCAACCCGACGGAGGUGGCUCUUUUGGCCACUUCGGGAAAAAGGCAGAAGCGCGACAGCCGUCAUGAAGUUCCCAGGGUAGGUCAUCGGCUGGGGACGCGUGGUCGAUAAGAGGAGCUAUAUAGUAACCAUUUCGCCACAAUUAGAGGACCGAGCCUAGAUACUUUAUGGAUAUCCUUCACACGGUGCAACGUUAUUGAGUGAUACGGUCCUCGUUUAAAUUUGACACUAAAUGCCUCGUAUUUUUUCCAGGCGCUAAUGAAGACAUUCGCUAGCAAGCUUCGUAUCUACAUUACUUCGUGCCGCCGGUUAUGGAGUCGGCUUUCCGAGCAUUUCUCUUGAGUCGACCCCGUUCCAUGGCGGGGUUGCGUCGGACAUCUGGCUCUUGGAGCUGCCCCUGCGCUUUGCUGGGUUGCGUGAUCUCCGUGAUGUCUGAGAUGAGAAGGCCGUUUGACAUUGUUAGUGGACGUUAGUUCGGAUGAGUUGCCAUGCAUAGAGAAACAGAUGCCGCAAGGCUAUGCUUGGGUGUGAAUAGUUAAGAGCAGGACCACCAUCAAUACGCUGUUGUUAUAAGCCGCGCAAAAGGAUGCCACCAGGUUAAUGAUACGGGAGGGAAACAUCGAAAGGAAGGAAUUUACAGGCCUUUUGUCAAUGUGAAAGGAAAACAUUUGGGCGACCUCGCAUCACAUUAUAUGCUUCUCGAGCAACCACUCUGUUACAUCUAUACCCGCUGAGCGCUUCGUUGAUGCGGUUCGUUGAACCCUAGACUCAAUCUUAGGGGGUGACCGGUGAUUCUUGGCGCUGACGCGCGAUAG\n"
          ]
        }
      ]
    },
    {
      "cell_type": "code",
      "source": [],
      "metadata": {
        "id": "5JyNk1-pzkd-"
      },
      "execution_count": null,
      "outputs": []
    },
    {
      "cell_type": "code",
      "source": [
        "# P21.2 — 🚩 ROSALIND #8 (Translating RNA into Protein; standard PROT)\n",
        "!pip -q install biopython\n",
        "from Bio.Seq import Seq\n",
        "\n",
        "# Upload the file, then translate\n",
        "from google.colab import files\n",
        "uploaded = files.upload()\n",
        "\n",
        "fname = next(iter(uploaded))\n",
        "with open(fname) as f:\n",
        "    rna = \"\".join(line.strip() for line in f if not line.startswith(\">\"))\n",
        "rna = rna.upper().replace(\"T\",\"U\")\n",
        "\n",
        "print(str(Seq(rna).translate(to_stop=True)))\n"
      ],
      "metadata": {
        "colab": {
          "base_uri": "https://localhost:8080/",
          "height": 110
        },
        "id": "R8arWg6Iz0TS",
        "outputId": "152aa42a-22db-4320-9da3-80314be220d3"
      },
      "execution_count": 56,
      "outputs": [
        {
          "output_type": "display_data",
          "data": {
            "text/plain": [
              "<IPython.core.display.HTML object>"
            ],
            "text/html": [
              "\n",
              "     <input type=\"file\" id=\"files-446eed13-7d0c-42bd-b857-e9c63449d698\" name=\"files[]\" multiple disabled\n",
              "        style=\"border:none\" />\n",
              "     <output id=\"result-446eed13-7d0c-42bd-b857-e9c63449d698\">\n",
              "      Upload widget is only available when the cell has been executed in the\n",
              "      current browser session. Please rerun this cell to enable.\n",
              "      </output>\n",
              "      <script>// Copyright 2017 Google LLC\n",
              "//\n",
              "// Licensed under the Apache License, Version 2.0 (the \"License\");\n",
              "// you may not use this file except in compliance with the License.\n",
              "// You may obtain a copy of the License at\n",
              "//\n",
              "//      http://www.apache.org/licenses/LICENSE-2.0\n",
              "//\n",
              "// Unless required by applicable law or agreed to in writing, software\n",
              "// distributed under the License is distributed on an \"AS IS\" BASIS,\n",
              "// WITHOUT WARRANTIES OR CONDITIONS OF ANY KIND, either express or implied.\n",
              "// See the License for the specific language governing permissions and\n",
              "// limitations under the License.\n",
              "\n",
              "/**\n",
              " * @fileoverview Helpers for google.colab Python module.\n",
              " */\n",
              "(function(scope) {\n",
              "function span(text, styleAttributes = {}) {\n",
              "  const element = document.createElement('span');\n",
              "  element.textContent = text;\n",
              "  for (const key of Object.keys(styleAttributes)) {\n",
              "    element.style[key] = styleAttributes[key];\n",
              "  }\n",
              "  return element;\n",
              "}\n",
              "\n",
              "// Max number of bytes which will be uploaded at a time.\n",
              "const MAX_PAYLOAD_SIZE = 100 * 1024;\n",
              "\n",
              "function _uploadFiles(inputId, outputId) {\n",
              "  const steps = uploadFilesStep(inputId, outputId);\n",
              "  const outputElement = document.getElementById(outputId);\n",
              "  // Cache steps on the outputElement to make it available for the next call\n",
              "  // to uploadFilesContinue from Python.\n",
              "  outputElement.steps = steps;\n",
              "\n",
              "  return _uploadFilesContinue(outputId);\n",
              "}\n",
              "\n",
              "// This is roughly an async generator (not supported in the browser yet),\n",
              "// where there are multiple asynchronous steps and the Python side is going\n",
              "// to poll for completion of each step.\n",
              "// This uses a Promise to block the python side on completion of each step,\n",
              "// then passes the result of the previous step as the input to the next step.\n",
              "function _uploadFilesContinue(outputId) {\n",
              "  const outputElement = document.getElementById(outputId);\n",
              "  const steps = outputElement.steps;\n",
              "\n",
              "  const next = steps.next(outputElement.lastPromiseValue);\n",
              "  return Promise.resolve(next.value.promise).then((value) => {\n",
              "    // Cache the last promise value to make it available to the next\n",
              "    // step of the generator.\n",
              "    outputElement.lastPromiseValue = value;\n",
              "    return next.value.response;\n",
              "  });\n",
              "}\n",
              "\n",
              "/**\n",
              " * Generator function which is called between each async step of the upload\n",
              " * process.\n",
              " * @param {string} inputId Element ID of the input file picker element.\n",
              " * @param {string} outputId Element ID of the output display.\n",
              " * @return {!Iterable<!Object>} Iterable of next steps.\n",
              " */\n",
              "function* uploadFilesStep(inputId, outputId) {\n",
              "  const inputElement = document.getElementById(inputId);\n",
              "  inputElement.disabled = false;\n",
              "\n",
              "  const outputElement = document.getElementById(outputId);\n",
              "  outputElement.innerHTML = '';\n",
              "\n",
              "  const pickedPromise = new Promise((resolve) => {\n",
              "    inputElement.addEventListener('change', (e) => {\n",
              "      resolve(e.target.files);\n",
              "    });\n",
              "  });\n",
              "\n",
              "  const cancel = document.createElement('button');\n",
              "  inputElement.parentElement.appendChild(cancel);\n",
              "  cancel.textContent = 'Cancel upload';\n",
              "  const cancelPromise = new Promise((resolve) => {\n",
              "    cancel.onclick = () => {\n",
              "      resolve(null);\n",
              "    };\n",
              "  });\n",
              "\n",
              "  // Wait for the user to pick the files.\n",
              "  const files = yield {\n",
              "    promise: Promise.race([pickedPromise, cancelPromise]),\n",
              "    response: {\n",
              "      action: 'starting',\n",
              "    }\n",
              "  };\n",
              "\n",
              "  cancel.remove();\n",
              "\n",
              "  // Disable the input element since further picks are not allowed.\n",
              "  inputElement.disabled = true;\n",
              "\n",
              "  if (!files) {\n",
              "    return {\n",
              "      response: {\n",
              "        action: 'complete',\n",
              "      }\n",
              "    };\n",
              "  }\n",
              "\n",
              "  for (const file of files) {\n",
              "    const li = document.createElement('li');\n",
              "    li.append(span(file.name, {fontWeight: 'bold'}));\n",
              "    li.append(span(\n",
              "        `(${file.type || 'n/a'}) - ${file.size} bytes, ` +\n",
              "        `last modified: ${\n",
              "            file.lastModifiedDate ? file.lastModifiedDate.toLocaleDateString() :\n",
              "                                    'n/a'} - `));\n",
              "    const percent = span('0% done');\n",
              "    li.appendChild(percent);\n",
              "\n",
              "    outputElement.appendChild(li);\n",
              "\n",
              "    const fileDataPromise = new Promise((resolve) => {\n",
              "      const reader = new FileReader();\n",
              "      reader.onload = (e) => {\n",
              "        resolve(e.target.result);\n",
              "      };\n",
              "      reader.readAsArrayBuffer(file);\n",
              "    });\n",
              "    // Wait for the data to be ready.\n",
              "    let fileData = yield {\n",
              "      promise: fileDataPromise,\n",
              "      response: {\n",
              "        action: 'continue',\n",
              "      }\n",
              "    };\n",
              "\n",
              "    // Use a chunked sending to avoid message size limits. See b/62115660.\n",
              "    let position = 0;\n",
              "    do {\n",
              "      const length = Math.min(fileData.byteLength - position, MAX_PAYLOAD_SIZE);\n",
              "      const chunk = new Uint8Array(fileData, position, length);\n",
              "      position += length;\n",
              "\n",
              "      const base64 = btoa(String.fromCharCode.apply(null, chunk));\n",
              "      yield {\n",
              "        response: {\n",
              "          action: 'append',\n",
              "          file: file.name,\n",
              "          data: base64,\n",
              "        },\n",
              "      };\n",
              "\n",
              "      let percentDone = fileData.byteLength === 0 ?\n",
              "          100 :\n",
              "          Math.round((position / fileData.byteLength) * 100);\n",
              "      percent.textContent = `${percentDone}% done`;\n",
              "\n",
              "    } while (position < fileData.byteLength);\n",
              "  }\n",
              "\n",
              "  // All done.\n",
              "  yield {\n",
              "    response: {\n",
              "      action: 'complete',\n",
              "    }\n",
              "  };\n",
              "}\n",
              "\n",
              "scope.google = scope.google || {};\n",
              "scope.google.colab = scope.google.colab || {};\n",
              "scope.google.colab._files = {\n",
              "  _uploadFiles,\n",
              "  _uploadFilesContinue,\n",
              "};\n",
              "})(self);\n",
              "</script> "
            ]
          },
          "metadata": {}
        },
        {
          "output_type": "stream",
          "name": "stdout",
          "text": [
            "Saving rosalind_prot.txt to rosalind_prot.txt\n",
            "MQKIYGMDERCGLKGLQNSRDVLSSSFLAEASWASSNTLQRYGYTCQNPGNRQIVLCRVPSTCEFCPIDCHPINAWPSIQGPRVPWTMSPSKDKPVCSATVIRVPYECSVRHRLARYPDDKAYFTSKYTYLTYNNAAGLPGGHRPPRSDFIGGSSGDRGVILWAADVCGHTPHHSYVCTALPLSKFASVRMIRKLPGKGLDNTVGDSQGRRHETPSPDAKVCPRALNIGCDPAKWRTLISSISQIRLPLARRGLSTVAISSALRYTSRLWKFTELQCAEIYVSVWVFPTAVQRADVHSKCADPESLKAYYTLIRSVIAAVDRQRQVSAQVRSKPKEHLLHSSAYYQFRRTFYCMHLIMNSIKQKFGEGLIPTMGVGDIPRLSLLGITTSCLASLAVASSQTPRAVSSRRFSVITRRTIAMGIRLVFLGTISSFPGPVIRAMADAMSRLYARAKLARKAGFYRPRPHRPAGIMMSCSPILNPVPYSQKNAEQRGELNRRAQRIKPHSVPPNPGNLVVSSSSSHLWAHEEDSVLPGLNLTRLSADGIRKPISPRLPRGHLCSLLSDDAQMDWHISHYEVNDLSEQTGVTRVVMGRTAGPYFACSRPSMRKVELGPETNLTNSIIRQLQNVNTKTDTGSNMGLQTPNGPLNLSSQLRAGKAGCGNAIPYKLKEFAAVSAEVQIKCRGIMCMTASGGYMIEHLQVRREPIKIVMDPCVCCSSMKYLKAMWTTSVYLLPRICSQSFPIVHIVSICSVEPSSVHERWIPSHSLLLCAQAKKLSHEATIPWVLMPKNERDKFSEMILRILRSDVTDRHVPQALIEGARSPILTVLSSCLSYVVAPSRRSRLRQRYARKHSGQNSTKKVDPLADLASLLWSRYNSGNTRHFVHVNNCTADQRPVNLRRARPCTDDSSLQGNISTHVSRKVPHLSKAFHYPNSIHASHGATSAYEGNLLRCRIILLRPHSASRDRKARQQERRHMVLVMIRFKLRLPYNVTRGRPGNLARFEYDFLQFPTTTLELIQANVRNPPDKSKILCPRFHVVRDGPARSVSWTDRSYVKIPGKEQCQLRIGKEETHRDAGVLMFVYAGSALLARQLVGSLLVTHNAGPLCLGWNALSKSVYLARPCATSIVLLSEWGEAFDTCLHFSCCMMRRKAPQPTRRPSLGRRSYRTVVCPGSGIEDLSQSLSKGKTSICFRSEFDIPLLDIGNVLFVAATGEALRRNVDLSKVVSLASDFVRGITIRKMWNYISSASLHANLLWIRWGMAKRASVVRRQICAAMRTRAISRPTNHYHASPIAVPVIPHQCRASRPLLYLPTKTGVCTRGTHAVITGMYKYVRVDYGYYGDFLPRFRSFDTEYVRLEVMPNHTKAMVIPGRAVSNICNLADVICRVREGTGTERDRMGSEAGLAWHRFLNTSEELDPLQGSFYSHMTSRTPNPSCPHSLTQALARGFGGVPPPQNTTRNQLGPSRNGSIDGELEWRNFVSPSWRTSQLIPRPVARPNAPRLLELRRSDAYTIEAGRTLRPATRVPSGQTRKPLESRFDGYRPNHQDALPQAHSVEILDRQSPILAFHRYAIQEWHSIKVLADYRAVVLVHVETCLALSNPMGVYKCDTETSGNKPSRLFQTWNALGLLNTACTLQTALLGTTFNIFWLYAIYGFQMPISAGRSGPVMLVDAVCCRPGLTPAFWREVPRGTNIKVLQNSSVNGFLDILIQQVSETYTVRALANHVVGQGKPVGMDLVPPGYPFGLNLVPHYINLRVTDNYCNLWEAYNPRRHEQSNGNKGMYTGPAYPTSPLHLGPHATRLSITIRGYLHEEAIVGVISNQYVVHQTTYRVVPRFKKHCHRCGPLLSVGSGRSKGTVAFRQICRRPNHRYVMSNRSVGLAMGQSQHAAGAYRSIGETEQRSLPAPAHLCSLPNAIYHRQSNYRRMRTLRTPGVILASILKNEVPRGLLSFKLEVSTKKEKLYHIDDCLIQYAWAQRPWGLLADRHEKVRLKWRIPLARRNFTDVYWIKSQFSNKPNLILSALIRRGKASKQTIRAKPVLGLPLASWRSANLDHTGHSRHVRRCTFGRICPQPVVIKAAWFFVGGPFLARWAAWNHGPTHMVAENVDGSSTLRHGARLSLVIGIETTTLLFGAIVHTSAVRSASRAPQDGFHQMGGICWGLFCITRVSGARDFAGLEFSPSETRWQGRSGPIFYATETERVYWCCRPSYIMSASIFHEFNAGMRECLKDRVLNERMATSVVLIIHSPKYVVGSHSGVLAIGPNAQAFTTTTWISTGILTHAQTVVKCSSSHVHQRLRIISVSGIIRGGGKKIPLQTLGNPCSDHWSSQLELCSPRRFASGYCVLPAVESTKTARLREGFQSISFHFGALRRVHGLDSEWCTARGMLVHFAPCAFMTGIEDRGRRDRNGLTEEGRASEEEKFPLARASLCRGTTGTASRFVTFARHIATGGEPVRGRSILALYQGGPKRLILIWRPESRLSTIIGLYHSQRFCQSPPAHMYEIYSGQPKEDVGRRSNLETKAAVWSLPNVKLAASSEAIPTKCGRPCDSSSISVKCPEVFILQGYSKKKSASVGAAVDVHHIGRLLSSTPLHNAYETGIFIARSRHHPSPHGPELVGPPAAVRMVCKFPCGKVLMGRSRMPPRAAVAYDRPVQQSKPILASEGRNPATPGMHPRISETKGLITWEKCFRFFDWLSALRIFVPSCCSSWVSEYRPRQVTWPCPNEVSIPQNASGTPVVLTHPNYFSRRLMRHR\n"
          ]
        }
      ]
    },
    {
      "cell_type": "code",
      "source": [
        "# P22.1 — read FASTA and show fields\n",
        "from Bio.SeqIO import parse\n",
        "from google.colab import files\n",
        "uploaded = files.upload()\n",
        "for rec in parse(\"/content/rosalind_gc.txt\", \"fasta\"):\n",
        "    print(rec.id)\n"
      ],
      "metadata": {
        "colab": {
          "base_uri": "https://localhost:8080/",
          "height": 229
        },
        "id": "TWpsUbLb0hHf",
        "outputId": "88e55d5d-83bf-42bf-b8b1-0970ed5a3a1a"
      },
      "execution_count": 60,
      "outputs": [
        {
          "output_type": "display_data",
          "data": {
            "text/plain": [
              "<IPython.core.display.HTML object>"
            ],
            "text/html": [
              "\n",
              "     <input type=\"file\" id=\"files-f2162fa5-391a-470f-a85c-524dc219df92\" name=\"files[]\" multiple disabled\n",
              "        style=\"border:none\" />\n",
              "     <output id=\"result-f2162fa5-391a-470f-a85c-524dc219df92\">\n",
              "      Upload widget is only available when the cell has been executed in the\n",
              "      current browser session. Please rerun this cell to enable.\n",
              "      </output>\n",
              "      <script>// Copyright 2017 Google LLC\n",
              "//\n",
              "// Licensed under the Apache License, Version 2.0 (the \"License\");\n",
              "// you may not use this file except in compliance with the License.\n",
              "// You may obtain a copy of the License at\n",
              "//\n",
              "//      http://www.apache.org/licenses/LICENSE-2.0\n",
              "//\n",
              "// Unless required by applicable law or agreed to in writing, software\n",
              "// distributed under the License is distributed on an \"AS IS\" BASIS,\n",
              "// WITHOUT WARRANTIES OR CONDITIONS OF ANY KIND, either express or implied.\n",
              "// See the License for the specific language governing permissions and\n",
              "// limitations under the License.\n",
              "\n",
              "/**\n",
              " * @fileoverview Helpers for google.colab Python module.\n",
              " */\n",
              "(function(scope) {\n",
              "function span(text, styleAttributes = {}) {\n",
              "  const element = document.createElement('span');\n",
              "  element.textContent = text;\n",
              "  for (const key of Object.keys(styleAttributes)) {\n",
              "    element.style[key] = styleAttributes[key];\n",
              "  }\n",
              "  return element;\n",
              "}\n",
              "\n",
              "// Max number of bytes which will be uploaded at a time.\n",
              "const MAX_PAYLOAD_SIZE = 100 * 1024;\n",
              "\n",
              "function _uploadFiles(inputId, outputId) {\n",
              "  const steps = uploadFilesStep(inputId, outputId);\n",
              "  const outputElement = document.getElementById(outputId);\n",
              "  // Cache steps on the outputElement to make it available for the next call\n",
              "  // to uploadFilesContinue from Python.\n",
              "  outputElement.steps = steps;\n",
              "\n",
              "  return _uploadFilesContinue(outputId);\n",
              "}\n",
              "\n",
              "// This is roughly an async generator (not supported in the browser yet),\n",
              "// where there are multiple asynchronous steps and the Python side is going\n",
              "// to poll for completion of each step.\n",
              "// This uses a Promise to block the python side on completion of each step,\n",
              "// then passes the result of the previous step as the input to the next step.\n",
              "function _uploadFilesContinue(outputId) {\n",
              "  const outputElement = document.getElementById(outputId);\n",
              "  const steps = outputElement.steps;\n",
              "\n",
              "  const next = steps.next(outputElement.lastPromiseValue);\n",
              "  return Promise.resolve(next.value.promise).then((value) => {\n",
              "    // Cache the last promise value to make it available to the next\n",
              "    // step of the generator.\n",
              "    outputElement.lastPromiseValue = value;\n",
              "    return next.value.response;\n",
              "  });\n",
              "}\n",
              "\n",
              "/**\n",
              " * Generator function which is called between each async step of the upload\n",
              " * process.\n",
              " * @param {string} inputId Element ID of the input file picker element.\n",
              " * @param {string} outputId Element ID of the output display.\n",
              " * @return {!Iterable<!Object>} Iterable of next steps.\n",
              " */\n",
              "function* uploadFilesStep(inputId, outputId) {\n",
              "  const inputElement = document.getElementById(inputId);\n",
              "  inputElement.disabled = false;\n",
              "\n",
              "  const outputElement = document.getElementById(outputId);\n",
              "  outputElement.innerHTML = '';\n",
              "\n",
              "  const pickedPromise = new Promise((resolve) => {\n",
              "    inputElement.addEventListener('change', (e) => {\n",
              "      resolve(e.target.files);\n",
              "    });\n",
              "  });\n",
              "\n",
              "  const cancel = document.createElement('button');\n",
              "  inputElement.parentElement.appendChild(cancel);\n",
              "  cancel.textContent = 'Cancel upload';\n",
              "  const cancelPromise = new Promise((resolve) => {\n",
              "    cancel.onclick = () => {\n",
              "      resolve(null);\n",
              "    };\n",
              "  });\n",
              "\n",
              "  // Wait for the user to pick the files.\n",
              "  const files = yield {\n",
              "    promise: Promise.race([pickedPromise, cancelPromise]),\n",
              "    response: {\n",
              "      action: 'starting',\n",
              "    }\n",
              "  };\n",
              "\n",
              "  cancel.remove();\n",
              "\n",
              "  // Disable the input element since further picks are not allowed.\n",
              "  inputElement.disabled = true;\n",
              "\n",
              "  if (!files) {\n",
              "    return {\n",
              "      response: {\n",
              "        action: 'complete',\n",
              "      }\n",
              "    };\n",
              "  }\n",
              "\n",
              "  for (const file of files) {\n",
              "    const li = document.createElement('li');\n",
              "    li.append(span(file.name, {fontWeight: 'bold'}));\n",
              "    li.append(span(\n",
              "        `(${file.type || 'n/a'}) - ${file.size} bytes, ` +\n",
              "        `last modified: ${\n",
              "            file.lastModifiedDate ? file.lastModifiedDate.toLocaleDateString() :\n",
              "                                    'n/a'} - `));\n",
              "    const percent = span('0% done');\n",
              "    li.appendChild(percent);\n",
              "\n",
              "    outputElement.appendChild(li);\n",
              "\n",
              "    const fileDataPromise = new Promise((resolve) => {\n",
              "      const reader = new FileReader();\n",
              "      reader.onload = (e) => {\n",
              "        resolve(e.target.result);\n",
              "      };\n",
              "      reader.readAsArrayBuffer(file);\n",
              "    });\n",
              "    // Wait for the data to be ready.\n",
              "    let fileData = yield {\n",
              "      promise: fileDataPromise,\n",
              "      response: {\n",
              "        action: 'continue',\n",
              "      }\n",
              "    };\n",
              "\n",
              "    // Use a chunked sending to avoid message size limits. See b/62115660.\n",
              "    let position = 0;\n",
              "    do {\n",
              "      const length = Math.min(fileData.byteLength - position, MAX_PAYLOAD_SIZE);\n",
              "      const chunk = new Uint8Array(fileData, position, length);\n",
              "      position += length;\n",
              "\n",
              "      const base64 = btoa(String.fromCharCode.apply(null, chunk));\n",
              "      yield {\n",
              "        response: {\n",
              "          action: 'append',\n",
              "          file: file.name,\n",
              "          data: base64,\n",
              "        },\n",
              "      };\n",
              "\n",
              "      let percentDone = fileData.byteLength === 0 ?\n",
              "          100 :\n",
              "          Math.round((position / fileData.byteLength) * 100);\n",
              "      percent.textContent = `${percentDone}% done`;\n",
              "\n",
              "    } while (position < fileData.byteLength);\n",
              "  }\n",
              "\n",
              "  // All done.\n",
              "  yield {\n",
              "    response: {\n",
              "      action: 'complete',\n",
              "    }\n",
              "  };\n",
              "}\n",
              "\n",
              "scope.google = scope.google || {};\n",
              "scope.google.colab = scope.google.colab || {};\n",
              "scope.google.colab._files = {\n",
              "  _uploadFiles,\n",
              "  _uploadFilesContinue,\n",
              "};\n",
              "})(self);\n",
              "</script> "
            ]
          },
          "metadata": {}
        },
        {
          "output_type": "stream",
          "name": "stdout",
          "text": [
            "Saving rosalind_gc.txt to rosalind_gc (2).txt\n",
            "Rosalind_3275\n",
            "Rosalind_3162\n",
            "Rosalind_1101\n",
            "Rosalind_2501\n",
            "Rosalind_0865\n",
            "Rosalind_1136\n",
            "Rosalind_6278\n",
            "Rosalind_6337\n",
            "Rosalind_4477\n"
          ]
        }
      ]
    },
    {
      "cell_type": "code",
      "source": [
        "# P23.1 — compute GC% per record\n",
        "from Bio.SeqIO import parse\n",
        "from Bio.SeqUtils import gc_fraction\n",
        "\n",
        "for rec in parse(\"/content/rosalind_gc (2).txt\", \"fasta\"):\n",
        "    gc = gc_fraction(str(rec.seq)) * 100\n",
        "    print(rec.id, f\"{gc:.6f}\")\n"
      ],
      "metadata": {
        "colab": {
          "base_uri": "https://localhost:8080/"
        },
        "id": "KnlRgEoH1Vyo",
        "outputId": "0208a55c-92df-4dc3-b8b8-91f828af5c7a"
      },
      "execution_count": 62,
      "outputs": [
        {
          "output_type": "stream",
          "name": "stdout",
          "text": [
            "Rosalind_7485 50.150150\n",
            "Rosalind_5324 49.882904\n",
            "Rosalind_4430 51.050680\n",
            "Rosalind_6090 50.800000\n",
            "Rosalind_7666 51.076555\n",
            "Rosalind_9040 49.889625\n",
            "Rosalind_5526 51.479915\n",
            "Rosalind_0740 50.463440\n",
            "Rosalind_1752 47.310648\n"
          ]
        }
      ]
    },
    {
      "cell_type": "code",
      "source": [
        "# P23.2 — 🚩 ROSALIND #9 (Computing GC Content; standard GC)\n",
        "# Input: FASTA with multiple records. Output: ID of the record with the highest GC%,\n",
        "# then its GC% on the next line.\n",
        "from Bio.SeqIO import parse\n",
        "from Bio.SeqUtils import gc_fraction\n",
        "\n",
        "best_id, best_gc = None, -1.0\n",
        "for rec in parse(\"/content/rosalind_gc (2).txt\", \"fasta\"):\n",
        "    gc = gc_fraction(str(rec.seq)) * 100.0\n",
        "    if gc > best_gc:\n",
        "        best_gc = gc\n",
        "        best_id = rec.id\n",
        "\n",
        "print(best_id)\n",
        "print(f\"{best_gc:.6f}\")\n"
      ],
      "metadata": {
        "colab": {
          "base_uri": "https://localhost:8080/"
        },
        "id": "f4Cn7yGj2Jw0",
        "outputId": "4412f48e-6d38-4e9c-a62d-f20524a44fdf"
      },
      "execution_count": 63,
      "outputs": [
        {
          "output_type": "stream",
          "name": "stdout",
          "text": [
            "Rosalind_5526\n",
            "51.479915\n"
          ]
        }
      ]
    }
  ]
}